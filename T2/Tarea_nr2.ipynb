{
 "cells": [
  {
   "cell_type": "markdown",
   "metadata": {},
   "source": [
    "\"\"\"\n",
    "• Generar una estructura con los nombres de los estudiantes y la suma de ambas notas.\n",
    "• Calcular el promedio de las notas totales e informar que alumnos obtuvieron menos que el\n",
    "promedio.\n",
    "\"\"\""
   ]
  },
  {
   "cell_type": "markdown",
   "metadata": {},
   "source": [
    "### cargo los archivos y los inicializo"
   ]
  },
  {
   "cell_type": "code",
   "execution_count": null,
   "metadata": {},
   "outputs": [],
   "source": [
    "suma_notas = {}\n",
    "archivo_nombres = open(\"nombres_1.txt\",\"r\")\n",
    "archivo_nota1 = open(\"eval1.txt\",\"r\")\n",
    "archivo_nota2 = open(\"eval2.txt\", \"r\")\n"
   ]
  },
  {
   "cell_type": "code",
   "execution_count": null,
   "metadata": {},
   "outputs": [],
   "source": [
    "lista_nombres = archivo_nombres.read().replace(\"'\",\"\").replace(\",\",\"\").split()\n",
    "lista_notas_1 = archivo_nota1.read().replace(\",\",\"\").split()\n",
    "lista_notas_2 = archivo_nota2.read().replace(\",\",\"\").split()\n",
    "\n",
    "suma_notas[lista_nombres[1]] = int(lista_notas_1[1]) + int(lista_notas_2[1])"
   ]
  },
  {
   "cell_type": "code",
   "execution_count": null,
   "metadata": {},
   "outputs": [],
   "source": [
    "suma_total = 0\n",
    "for i in range(len(lista_nombres)):\n",
    "    suma_notas[lista_nombres[i]] = int(lista_notas_1[i]) + int(lista_notas_2[i])\n",
    "    suma_total += suma_notas[lista_nombres[i]]"
   ]
  },
  {
   "cell_type": "code",
   "execution_count": null,
   "metadata": {},
   "outputs": [],
   "source": [
    "promedio_total = suma_total / len(lista_nombres)\n",
    "print(f\"El promedio de todas las notas es de: {round(promedio_total,2)}\")"
   ]
  },
  {
   "cell_type": "code",
   "execution_count": null,
   "metadata": {},
   "outputs": [],
   "source": [
    "for alu in suma_notas:\n",
    "    if suma_notas[alu] < promedio_total:\n",
    "        print(f\"El alumn {alu} obtuvo menor nota que el promedio ({suma_notas[alu]})\")"
   ]
  },
  {
   "cell_type": "code",
   "execution_count": null,
   "metadata": {},
   "outputs": [],
   "source": []
  }
 ],
 "metadata": {
  "kernelspec": {
   "display_name": "Python 3",
   "language": "python",
   "name": "python3"
  },
  "language_info": {
   "codemirror_mode": {
    "name": "ipython",
    "version": 3
   },
   "file_extension": ".py",
   "mimetype": "text/x-python",
   "name": "python",
   "nbconvert_exporter": "python",
   "pygments_lexer": "ipython3",
   "version": "3.7.3"
  }
 },
 "nbformat": 4,
 "nbformat_minor": 2
}
